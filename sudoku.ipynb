{
 "cells": [
  {
   "cell_type": "code",
   "execution_count": 1,
   "metadata": {},
   "outputs": [],
   "source": [
    "import highspy\n",
    "import numpy as np"
   ]
  },
  {
   "cell_type": "code",
   "execution_count": 2,
   "metadata": {},
   "outputs": [],
   "source": [
    "h = highspy.Highs()"
   ]
  },
  {
   "cell_type": "code",
   "execution_count": 3,
   "metadata": {},
   "outputs": [
    {
     "name": "stdout",
     "output_type": "stream",
     "text": [
      "Running HiGHS 1.7.2 (git hash: 184e327): Copyright (c) 2024 HiGHS under MIT licence terms\n"
     ]
    }
   ],
   "source": [
    "vars = [[[h.addBinary() for k in range(9)]for j in range(9)] for i in range(9)]"
   ]
  },
  {
   "cell_type": "code",
   "execution_count": 4,
   "metadata": {},
   "outputs": [],
   "source": [
    "for i in range(9):\n",
    "    for j in range(9):\n",
    "        x = [vars[i][j][k] for k in range(9)]\n",
    "        s = x[0]\n",
    "        for k in range(1,9):\n",
    "            s+=x[k]\n",
    "        h.addConstr(1>=s>=1)"
   ]
  },
  {
   "cell_type": "code",
   "execution_count": 5,
   "metadata": {},
   "outputs": [],
   "source": [
    "for i in range(9):\n",
    "    for j in range(9):\n",
    "        x = [vars[i][k][j] for k in range(9)]\n",
    "        s = x[0]\n",
    "        for k in range(1,9):\n",
    "            s+=x[k]\n",
    "        h.addConstr(1>=s>=1)"
   ]
  },
  {
   "cell_type": "code",
   "execution_count": 6,
   "metadata": {},
   "outputs": [],
   "source": [
    "for i in range(9):\n",
    "    for j in range(9):\n",
    "        x = [vars[k][j][i] for k in range(9)]\n",
    "        s = x[0]\n",
    "        for k in range(1,9):\n",
    "            s+=x[k]\n",
    "        h.addConstr(1>=s>=1)"
   ]
  },
  {
   "cell_type": "code",
   "execution_count": 7,
   "metadata": {},
   "outputs": [],
   "source": [
    "for i in range(9):\n",
    "    for j in range(9):\n",
    "        x = [vars[(j//3)*3 + (k//3)][(j%3)*3 + (k%3)][i] for k in range(9)]\n",
    "        s = x[0]\n",
    "        for k in range(1,9):\n",
    "            s+=x[k]\n",
    "        h.addConstr(1>=s>=1)"
   ]
  },
  {
   "cell_type": "code",
   "execution_count": 8,
   "metadata": {},
   "outputs": [],
   "source": [
    "# conditions = [[0,0,0,0,0,0,0,0,0],\n",
    "#               [0,0,0,0,0,0,0,0,0],\n",
    "#               [0,0,0,0,0,0,0,0,0],\n",
    "#               [0,0,0,0,0,0,0,0,0],\n",
    "#               [0,0,0,0,0,0,0,0,0],\n",
    "#               [0,0,0,0,0,0,0,0,0],\n",
    "#               [0,0,0,0,0,0,0,0,0],\n",
    "#               [0,0,0,0,0,0,0,0,0],\n",
    "#               [0,0,0,0,0,0,0,0,0]]\n",
    "\n",
    "# conditions = [[8,0,0,0,0,0,0,0,0],\n",
    "#               [0,0,3,6,0,0,0,0,0],\n",
    "#               [0,7,0,0,9,0,2,0,0],\n",
    "#               [0,5,0,0,0,7,0,0,0],\n",
    "#               [0,0,0,0,4,5,7,0,0],\n",
    "#               [0,0,0,1,0,0,0,3,0],\n",
    "#               [0,0,1,0,0,0,0,6,8],\n",
    "#               [0,0,8,5,0,0,0,1,0],\n",
    "#               [0,9,0,0,0,0,4,0,0]]\n",
    "\n",
    "\n",
    "conditions = [[0,0,0,0,0,0,0,3,9],\n",
    "              [0,0,0,0,1,0,0,0,5],\n",
    "              [0,0,3,0,0,5,8,0,0],\n",
    "              [0,0,8,0,0,9,0,0,6],\n",
    "              [0,7,0,0,2,0,0,0,0],\n",
    "              [1,0,0,4,0,0,0,0,0],\n",
    "              [0,0,9,0,0,8,0,5,0],\n",
    "              [0,2,0,0,0,0,6,0,0],\n",
    "              [4,0,0,7,0,0,0,0,0]]\n",
    "\n",
    "for i in range(9):\n",
    "    for j in range(9):\n",
    "        K = conditions[i][j] - 1\n",
    "        if (K != -1):\n",
    "            for k in range(9):\n",
    "                if k == K:\n",
    "                    h.addConstr (vars[i][j][k] >= 1)\n",
    "                else:\n",
    "                    h.addConstr (vars[i][j][k] <= 0)\n"
   ]
  },
  {
   "cell_type": "code",
   "execution_count": 9,
   "metadata": {},
   "outputs": [
    {
     "data": {
      "text/plain": [
       "<HighsStatus.kOk: 0>"
      ]
     },
     "execution_count": 9,
     "metadata": {},
     "output_type": "execute_result"
    },
    {
     "name": "stdout",
     "output_type": "stream",
     "text": [
      "Coefficient ranges:\n",
      "  Matrix [1e+00, 1e+00]\n",
      "  Cost   [0e+00, 0e+00]\n",
      "  Bound  [1e+00, 1e+00]\n",
      "  RHS    [1e+00, 1e+00]\n",
      "Presolving model\n",
      "324 rows, 540 cols, 2160 nonzeros  0s\n",
      "221 rows, 225 cols, 966 nonzeros  0s\n",
      "196 rows, 222 cols, 856 nonzeros  0s\n",
      "Objective function is integral with scale 1\n",
      "\n",
      "Solving MIP model with:\n",
      "   196 rows\n",
      "   222 cols (222 binary, 0 integer, 0 implied int., 0 continuous)\n",
      "   856 nonzeros\n",
      "\n",
      "        Nodes      |    B&B Tree     |            Objective Bounds              |  Dynamic Constraints |       Work      \n",
      "     Proc. InQueue |  Leaves   Expl. | BestBound       BestSol              Gap |   Cuts   InLp Confl. | LpIters     Time\n",
      "\n",
      "         0       0         0   0.00%   0               inf                  inf        0      0      0         0     0.0s\n",
      "         0       0         0   0.00%   0               inf                  inf        0      0      7       186     0.0s\n",
      "\n",
      "Solving report\n",
      "  Status            Optimal\n",
      "  Primal bound      0\n",
      "  Dual bound        0\n",
      "  Gap               0% (tolerance: 0.01%)\n",
      "  Solution status   feasible\n",
      "                    0 (objective)\n",
      "                    0 (bound viol.)\n",
      "                    0 (int. viol.)\n",
      "                    0 (row viol.)\n",
      "  Timing            0.30 (total)\n",
      "                    0.01 (presolve)\n",
      "                    0.00 (postsolve)\n",
      "  Nodes             1\n",
      "  LP iterations     2517 (total)\n",
      "                    0 (strong br.)\n",
      "                    142 (separation)\n",
      "                    2189 (heuristics)\n"
     ]
    }
   ],
   "source": [
    "h.solve()"
   ]
  },
  {
   "cell_type": "code",
   "execution_count": 10,
   "metadata": {},
   "outputs": [],
   "source": [
    "sol = h.getSolution()"
   ]
  },
  {
   "cell_type": "code",
   "execution_count": 11,
   "metadata": {},
   "outputs": [],
   "source": [
    "#sol.col_value"
   ]
  },
  {
   "cell_type": "code",
   "execution_count": 12,
   "metadata": {},
   "outputs": [],
   "source": [
    "mat = np.zeros((9,9))\n",
    "for i in range(9):\n",
    "    for j in range(9):\n",
    "        for k in range(9):\n",
    "            if sol.col_value[i*81 + j * 9 + k] > 0.5:\n",
    "                mat[i,j] = k + 1"
   ]
  },
  {
   "cell_type": "code",
   "execution_count": 13,
   "metadata": {},
   "outputs": [
    {
     "data": {
      "text/plain": [
       "array([[7., 5., 1., 8., 6., 4., 2., 3., 9.],\n",
       "       [8., 9., 2., 3., 1., 7., 4., 6., 5.],\n",
       "       [6., 4., 3., 2., 9., 5., 8., 7., 1.],\n",
       "       [2., 3., 8., 1., 7., 9., 5., 4., 6.],\n",
       "       [9., 7., 4., 5., 2., 6., 3., 1., 8.],\n",
       "       [1., 6., 5., 4., 8., 3., 9., 2., 7.],\n",
       "       [3., 1., 9., 6., 4., 8., 7., 5., 2.],\n",
       "       [5., 2., 7., 9., 3., 1., 6., 8., 4.],\n",
       "       [4., 8., 6., 7., 5., 2., 1., 9., 3.]])"
      ]
     },
     "execution_count": 13,
     "metadata": {},
     "output_type": "execute_result"
    }
   ],
   "source": [
    "mat"
   ]
  }
 ],
 "metadata": {
  "kernelspec": {
   "display_name": "Python 3 (ipykernel)",
   "language": "python",
   "name": "python3"
  },
  "language_info": {
   "codemirror_mode": {
    "name": "ipython",
    "version": 3
   },
   "file_extension": ".py",
   "mimetype": "text/x-python",
   "name": "python",
   "nbconvert_exporter": "python",
   "pygments_lexer": "ipython3",
   "version": "3.10.12"
  }
 },
 "nbformat": 4,
 "nbformat_minor": 4
}
